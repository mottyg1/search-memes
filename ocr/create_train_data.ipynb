{
 "cells": [
  {
   "cell_type": "code",
   "execution_count": 2,
   "metadata": {
    "collapsed": true,
    "ExecuteTime": {
     "end_time": "2024-04-28T00:15:34.308858Z",
     "start_time": "2024-04-28T00:15:34.304277800Z"
    }
   },
   "outputs": [],
   "source": [
    "import glob\n",
    "import pandas as pd\n",
    "import tesserocr\n",
    "from PIL import Image, ImageOps\n",
    "from random import randint\n",
    "from tqdm import tqdm"
   ]
  },
  {
   "cell_type": "code",
   "execution_count": 13,
   "outputs": [],
   "source": [
    "def grayscale(image):\n",
    "    \"\"\"Converts the image to grayscale.\"\"\"\n",
    "    return image.convert('L')\n",
    "\n",
    "\n",
    "def threshold(image, threshold=127):\n",
    "    \"\"\"Applies a thresholding filter to the image.\"\"\"\n",
    "    return image.point(lambda x: 0 if x < threshold else 255)\n",
    "\n",
    "\n",
    "def crop_image(image, crop_percentage_height=0.3, crop_percentage_width=0.1):\n",
    "    width, height = image.size\n",
    "    crop_height = int(height * crop_percentage_height)\n",
    "    crop_width = int(width * crop_percentage_width)\n",
    "    # Crop the image to the lower part\n",
    "    return image.crop((crop_width, height - crop_height, width - crop_width, height))\n",
    "\n",
    "\n",
    "def preprocess_image(image):\n",
    "  #  image = crop_image(image)\n",
    "\n",
    "    image = threshold(image, 220)\n",
    "\n",
    "    image = grayscale(image)\n",
    "\n",
    "    image = ImageOps.invert(image)\n",
    "\n",
    "    return image"
   ],
   "metadata": {
    "collapsed": false,
    "ExecuteTime": {
     "end_time": "2024-04-28T00:17:34.479795600Z",
     "start_time": "2024-04-28T00:17:34.459565Z"
    }
   }
  },
  {
   "cell_type": "code",
   "execution_count": 14,
   "outputs": [],
   "source": [
    "directory = r'D:\\memes_code\\tesstrain-main\\data\\kan11-ground-truth'\n",
    "files = glob.glob(directory + '**/*.jpg', recursive=True) + glob.glob(directory + '**/*.png', recursive=True) + glob.glob(directory + '**/*.jpeg', recursive=True)\n",
    "\n",
    "#"
   ],
   "metadata": {
    "collapsed": false,
    "ExecuteTime": {
     "end_time": "2024-04-28T00:17:34.823823500Z",
     "start_time": "2024-04-28T00:17:34.790676100Z"
    }
   }
  },
  {
   "cell_type": "code",
   "execution_count": 16,
   "outputs": [
    {
     "data": {
      "text/plain": "<PIL.Image.Image image mode=L size=662x51 at 0x28D0C6BF040>",
      "image/png": "[encoded data removed]"
     },
     "metadata": {},
     "output_type": "display_data"
    },
    {
     "data": {
      "text/plain": "<PIL.Image.Image image mode=L size=227x37 at 0x28D0C5CFA60>",
      "image/png": "[encoded data removed]"
     },
     "metadata": {},
     "output_type": "display_data"
    },
    {
     "data": {
      "text/plain": "<PIL.Image.Image image mode=L size=315x38 at 0x28D0C55DFA0>",
      "image/png": "[encoded data removed]"
     },
     "metadata": {},
     "output_type": "display_data"
    },
    {
     "data": {
      "text/plain": "<PIL.Image.Image image mode=L size=342x42 at 0x28D0C6BF040>",
      "image/png": "[encoded data removed]"
     },
     "metadata": {},
     "output_type": "display_data"
    },
    {
     "data": {
      "text/plain": "<PIL.Image.Image image mode=L size=247x37 at 0x28D0C5CFA60>",
      "image/png": "[encoded data removed]"
     },
     "metadata": {},
     "output_type": "display_data"
    },
    {
     "data": {
      "text/plain": "<PIL.Image.Image image mode=L size=270x37 at 0x28D0C55DFA0>",
      "image/png": "[encoded data removed]"
     },
     "metadata": {},
     "output_type": "display_data"
    },
    {
     "data": {
      "text/plain": "<PIL.Image.Image image mode=L size=363x40 at 0x28D0C6BF040>",
      "image/png": "[encoded data removed]"
     },
     "metadata": {},
     "output_type": "display_data"
    },
    {
     "data": {
      "text/plain": "<PIL.Image.Image image mode=L size=408x36 at 0x28D0C55DFA0>",
      "image/png": "[encoded data removed]"
     },
     "metadata": {},
     "output_type": "display_data"
    },
    {
     "data": {
      "text/plain": "<PIL.Image.Image image mode=L size=345x33 at 0x28D0C5CFA60>",
      "image/png": "[encoded data removed]"
     },
     "metadata": {},
     "output_type": "display_data"
    },
    {
     "data": {
      "text/plain": "<PIL.Image.Image image mode=L size=362x35 at 0x28D0C5CFA60>",
      "image/png": "[encoded data removed]"
     },
     "metadata": {},
     "output_type": "display_data"
    },
    {
     "data": {
      "text/plain": "<PIL.Image.Image image mode=L size=371x42 at 0x28D0C55DFA0>",
      "image/png": "[encoded data removed]"
     },
     "metadata": {},
     "output_type": "display_data"
    },
    {
     "data": {
      "text/plain": "<PIL.Image.Image image mode=L size=325x36 at 0x28D0C6BF040>",
      "image/png": "[encoded data removed]"
     },
     "metadata": {},
     "output_type": "display_data"
    },
    {
     "data": {
      "text/plain": "<PIL.Image.Image image mode=L size=172x28 at 0x28D0C6BF040>",
      "image/png": "[encoded data removed]"
     },
     "metadata": {},
     "output_type": "display_data"
    },
    {
     "data": {
      "text/plain": "<PIL.Image.Image image mode=L size=262x28 at 0x28D0C5F04C0>",
      "image/png": "[encoded data removed]"
     },
     "metadata": {},
     "output_type": "display_data"
    },
    {
     "data": {
      "text/plain": "<PIL.Image.Image image mode=L size=318x33 at 0x28D0C68B190>",
      "image/png": "[encoded data removed]"
     },
     "metadata": {},
     "output_type": "display_data"
    },
    {
     "data": {
      "text/plain": "<PIL.Image.Image image mode=L size=322x32 at 0x28D0C5F04C0>",
      "image/png": "[encoded data removed]"
     },
     "metadata": {},
     "output_type": "display_data"
    },
    {
     "data": {
      "text/plain": "<PIL.Image.Image image mode=L size=237x37 at 0x28D0C5CFA60>",
      "image/png": "[encoded data removed]"
     },
     "metadata": {},
     "output_type": "display_data"
    },
    {
     "data": {
      "text/plain": "<PIL.Image.Image image mode=L size=305x33 at 0x28D0C5F04C0>",
      "image/png": "[encoded data removed]"
     },
     "metadata": {},
     "output_type": "display_data"
    }
   ],
   "source": [
    "for f in files:\n",
    "    image = Image.open(f)\n",
    "    image = preprocess_image(image)\n",
    "    display(image)\n",
    "    tif_file_name = f.replace('.jpg', '.tif').replace('.jpeg', '.tif').replace('.png', '.tif')\n",
    "    image.save(tif_file_name)\n",
    "    text_gt_file_name = f.replace('.jpg', '.gt.txt').replace('.jpeg', '.gt.txt').replace('.png', '.gt.txt')\n",
    "    with open(text_gt_file_name, 'w') as f:\n",
    "        f.write('default')"
   ],
   "metadata": {
    "collapsed": false,
    "ExecuteTime": {
     "end_time": "2024-04-28T00:21:02.248939900Z",
     "start_time": "2024-04-28T00:21:02.038790100Z"
    }
   }
  }
 ],
 "metadata": {
  "kernelspec": {
   "display_name": "Python 3",
   "language": "python",
   "name": "python3"
  },
  "language_info": {
   "codemirror_mode": {
    "name": "ipython",
    "version": 2
   },
   "file_extension": ".py",
   "mimetype": "text/x-python",
   "name": "python",
   "nbconvert_exporter": "python",
   "pygments_lexer": "ipython2",
   "version": "2.7.6"
  }
 },
 "nbformat": 4,
 "nbformat_minor": 0
}
